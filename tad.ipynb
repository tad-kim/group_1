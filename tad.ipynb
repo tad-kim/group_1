{
  "cells": [
    {
      "cell_type": "markdown",
      "metadata": {
        "id": "view-in-github",
        "colab_type": "text"
      },
      "source": [
        "<a href=\"https://colab.research.google.com/github/tad-kim/group_1/blob/main/tad.ipynb\" target=\"_parent\"><img src=\"https://colab.research.google.com/assets/colab-badge.svg\" alt=\"Open In Colab\"/></a>"
      ]
    },
    {
      "cell_type": "code",
      "execution_count": 3,
      "id": "098b4cdb",
      "metadata": {
        "id": "098b4cdb",
        "outputId": "e53c6257-86e7-40b8-a180-13171735e922",
        "colab": {
          "base_uri": "https://localhost:8080/",
          "height": 356
        }
      },
      "outputs": [
        {
          "output_type": "error",
          "ename": "FileNotFoundError",
          "evalue": "[Errno 2] No such file or directory: 'IMDB top 1000.csv'",
          "traceback": [
            "\u001b[0;31m---------------------------------------------------------------------------\u001b[0m",
            "\u001b[0;31mFileNotFoundError\u001b[0m                         Traceback (most recent call last)",
            "\u001b[0;32m<ipython-input-3-3808382602>\u001b[0m in \u001b[0;36m<cell line: 0>\u001b[0;34m()\u001b[0m\n\u001b[1;32m      4\u001b[0m \u001b[0;32mimport\u001b[0m \u001b[0mmatplotlib\u001b[0m\u001b[0;34m.\u001b[0m\u001b[0mpyplot\u001b[0m \u001b[0;32mas\u001b[0m \u001b[0mplt\u001b[0m\u001b[0;34m\u001b[0m\u001b[0;34m\u001b[0m\u001b[0m\n\u001b[1;32m      5\u001b[0m     \u001b[0;31m# css 파일 읽기\u001b[0m\u001b[0;34m\u001b[0m\u001b[0;34m\u001b[0m\u001b[0m\n\u001b[0;32m----> 6\u001b[0;31m \u001b[0mdf\u001b[0m \u001b[0;34m=\u001b[0m \u001b[0mpd\u001b[0m\u001b[0;34m.\u001b[0m\u001b[0mread_csv\u001b[0m\u001b[0;34m(\u001b[0m\u001b[0;34m\"IMDB top 1000.csv\"\u001b[0m\u001b[0;34m,\u001b[0m \u001b[0mencoding\u001b[0m\u001b[0;34m=\u001b[0m\u001b[0;34m'utf-8'\u001b[0m\u001b[0;34m)\u001b[0m\u001b[0;34m\u001b[0m\u001b[0;34m\u001b[0m\u001b[0m\n\u001b[0m\u001b[1;32m      7\u001b[0m     \u001b[0;31m# numpy 로 변환\u001b[0m\u001b[0;34m\u001b[0m\u001b[0;34m\u001b[0m\u001b[0m\n\u001b[1;32m      8\u001b[0m \u001b[0mdata\u001b[0m \u001b[0;34m=\u001b[0m \u001b[0mdf\u001b[0m\u001b[0;34m.\u001b[0m\u001b[0mto_numpy\u001b[0m\u001b[0;34m(\u001b[0m\u001b[0;34m)\u001b[0m\u001b[0;34m\u001b[0m\u001b[0;34m\u001b[0m\u001b[0m\n",
            "\u001b[0;32m/usr/local/lib/python3.11/dist-packages/pandas/io/parsers/readers.py\u001b[0m in \u001b[0;36mread_csv\u001b[0;34m(filepath_or_buffer, sep, delimiter, header, names, index_col, usecols, dtype, engine, converters, true_values, false_values, skipinitialspace, skiprows, skipfooter, nrows, na_values, keep_default_na, na_filter, verbose, skip_blank_lines, parse_dates, infer_datetime_format, keep_date_col, date_parser, date_format, dayfirst, cache_dates, iterator, chunksize, compression, thousands, decimal, lineterminator, quotechar, quoting, doublequote, escapechar, comment, encoding, encoding_errors, dialect, on_bad_lines, delim_whitespace, low_memory, memory_map, float_precision, storage_options, dtype_backend)\u001b[0m\n\u001b[1;32m   1024\u001b[0m     \u001b[0mkwds\u001b[0m\u001b[0;34m.\u001b[0m\u001b[0mupdate\u001b[0m\u001b[0;34m(\u001b[0m\u001b[0mkwds_defaults\u001b[0m\u001b[0;34m)\u001b[0m\u001b[0;34m\u001b[0m\u001b[0;34m\u001b[0m\u001b[0m\n\u001b[1;32m   1025\u001b[0m \u001b[0;34m\u001b[0m\u001b[0m\n\u001b[0;32m-> 1026\u001b[0;31m     \u001b[0;32mreturn\u001b[0m \u001b[0m_read\u001b[0m\u001b[0;34m(\u001b[0m\u001b[0mfilepath_or_buffer\u001b[0m\u001b[0;34m,\u001b[0m \u001b[0mkwds\u001b[0m\u001b[0;34m)\u001b[0m\u001b[0;34m\u001b[0m\u001b[0;34m\u001b[0m\u001b[0m\n\u001b[0m\u001b[1;32m   1027\u001b[0m \u001b[0;34m\u001b[0m\u001b[0m\n\u001b[1;32m   1028\u001b[0m \u001b[0;34m\u001b[0m\u001b[0m\n",
            "\u001b[0;32m/usr/local/lib/python3.11/dist-packages/pandas/io/parsers/readers.py\u001b[0m in \u001b[0;36m_read\u001b[0;34m(filepath_or_buffer, kwds)\u001b[0m\n\u001b[1;32m    618\u001b[0m \u001b[0;34m\u001b[0m\u001b[0m\n\u001b[1;32m    619\u001b[0m     \u001b[0;31m# Create the parser.\u001b[0m\u001b[0;34m\u001b[0m\u001b[0;34m\u001b[0m\u001b[0m\n\u001b[0;32m--> 620\u001b[0;31m     \u001b[0mparser\u001b[0m \u001b[0;34m=\u001b[0m \u001b[0mTextFileReader\u001b[0m\u001b[0;34m(\u001b[0m\u001b[0mfilepath_or_buffer\u001b[0m\u001b[0;34m,\u001b[0m \u001b[0;34m**\u001b[0m\u001b[0mkwds\u001b[0m\u001b[0;34m)\u001b[0m\u001b[0;34m\u001b[0m\u001b[0;34m\u001b[0m\u001b[0m\n\u001b[0m\u001b[1;32m    621\u001b[0m \u001b[0;34m\u001b[0m\u001b[0m\n\u001b[1;32m    622\u001b[0m     \u001b[0;32mif\u001b[0m \u001b[0mchunksize\u001b[0m \u001b[0;32mor\u001b[0m \u001b[0miterator\u001b[0m\u001b[0;34m:\u001b[0m\u001b[0;34m\u001b[0m\u001b[0;34m\u001b[0m\u001b[0m\n",
            "\u001b[0;32m/usr/local/lib/python3.11/dist-packages/pandas/io/parsers/readers.py\u001b[0m in \u001b[0;36m__init__\u001b[0;34m(self, f, engine, **kwds)\u001b[0m\n\u001b[1;32m   1618\u001b[0m \u001b[0;34m\u001b[0m\u001b[0m\n\u001b[1;32m   1619\u001b[0m         \u001b[0mself\u001b[0m\u001b[0;34m.\u001b[0m\u001b[0mhandles\u001b[0m\u001b[0;34m:\u001b[0m \u001b[0mIOHandles\u001b[0m \u001b[0;34m|\u001b[0m \u001b[0;32mNone\u001b[0m \u001b[0;34m=\u001b[0m \u001b[0;32mNone\u001b[0m\u001b[0;34m\u001b[0m\u001b[0;34m\u001b[0m\u001b[0m\n\u001b[0;32m-> 1620\u001b[0;31m         \u001b[0mself\u001b[0m\u001b[0;34m.\u001b[0m\u001b[0m_engine\u001b[0m \u001b[0;34m=\u001b[0m \u001b[0mself\u001b[0m\u001b[0;34m.\u001b[0m\u001b[0m_make_engine\u001b[0m\u001b[0;34m(\u001b[0m\u001b[0mf\u001b[0m\u001b[0;34m,\u001b[0m \u001b[0mself\u001b[0m\u001b[0;34m.\u001b[0m\u001b[0mengine\u001b[0m\u001b[0;34m)\u001b[0m\u001b[0;34m\u001b[0m\u001b[0;34m\u001b[0m\u001b[0m\n\u001b[0m\u001b[1;32m   1621\u001b[0m \u001b[0;34m\u001b[0m\u001b[0m\n\u001b[1;32m   1622\u001b[0m     \u001b[0;32mdef\u001b[0m \u001b[0mclose\u001b[0m\u001b[0;34m(\u001b[0m\u001b[0mself\u001b[0m\u001b[0;34m)\u001b[0m \u001b[0;34m->\u001b[0m \u001b[0;32mNone\u001b[0m\u001b[0;34m:\u001b[0m\u001b[0;34m\u001b[0m\u001b[0;34m\u001b[0m\u001b[0m\n",
            "\u001b[0;32m/usr/local/lib/python3.11/dist-packages/pandas/io/parsers/readers.py\u001b[0m in \u001b[0;36m_make_engine\u001b[0;34m(self, f, engine)\u001b[0m\n\u001b[1;32m   1878\u001b[0m                 \u001b[0;32mif\u001b[0m \u001b[0;34m\"b\"\u001b[0m \u001b[0;32mnot\u001b[0m \u001b[0;32min\u001b[0m \u001b[0mmode\u001b[0m\u001b[0;34m:\u001b[0m\u001b[0;34m\u001b[0m\u001b[0;34m\u001b[0m\u001b[0m\n\u001b[1;32m   1879\u001b[0m                     \u001b[0mmode\u001b[0m \u001b[0;34m+=\u001b[0m \u001b[0;34m\"b\"\u001b[0m\u001b[0;34m\u001b[0m\u001b[0;34m\u001b[0m\u001b[0m\n\u001b[0;32m-> 1880\u001b[0;31m             self.handles = get_handle(\n\u001b[0m\u001b[1;32m   1881\u001b[0m                 \u001b[0mf\u001b[0m\u001b[0;34m,\u001b[0m\u001b[0;34m\u001b[0m\u001b[0;34m\u001b[0m\u001b[0m\n\u001b[1;32m   1882\u001b[0m                 \u001b[0mmode\u001b[0m\u001b[0;34m,\u001b[0m\u001b[0;34m\u001b[0m\u001b[0;34m\u001b[0m\u001b[0m\n",
            "\u001b[0;32m/usr/local/lib/python3.11/dist-packages/pandas/io/common.py\u001b[0m in \u001b[0;36mget_handle\u001b[0;34m(path_or_buf, mode, encoding, compression, memory_map, is_text, errors, storage_options)\u001b[0m\n\u001b[1;32m    880\u001b[0m         \u001b[0;32melse\u001b[0m\u001b[0;34m:\u001b[0m\u001b[0;34m\u001b[0m\u001b[0;34m\u001b[0m\u001b[0m\n\u001b[1;32m    881\u001b[0m             \u001b[0;31m# Binary mode\u001b[0m\u001b[0;34m\u001b[0m\u001b[0;34m\u001b[0m\u001b[0m\n\u001b[0;32m--> 882\u001b[0;31m             \u001b[0mhandle\u001b[0m \u001b[0;34m=\u001b[0m \u001b[0mopen\u001b[0m\u001b[0;34m(\u001b[0m\u001b[0mhandle\u001b[0m\u001b[0;34m,\u001b[0m \u001b[0mioargs\u001b[0m\u001b[0;34m.\u001b[0m\u001b[0mmode\u001b[0m\u001b[0;34m)\u001b[0m\u001b[0;34m\u001b[0m\u001b[0;34m\u001b[0m\u001b[0m\n\u001b[0m\u001b[1;32m    883\u001b[0m         \u001b[0mhandles\u001b[0m\u001b[0;34m.\u001b[0m\u001b[0mappend\u001b[0m\u001b[0;34m(\u001b[0m\u001b[0mhandle\u001b[0m\u001b[0;34m)\u001b[0m\u001b[0;34m\u001b[0m\u001b[0;34m\u001b[0m\u001b[0m\n\u001b[1;32m    884\u001b[0m \u001b[0;34m\u001b[0m\u001b[0m\n",
            "\u001b[0;31mFileNotFoundError\u001b[0m: [Errno 2] No such file or directory: 'IMDB top 1000.csv'"
          ]
        }
      ],
      "source": [
        "import numpy as np\n",
        "import pandas as pd\n",
        "import re\n",
        "import matplotlib.pyplot as plt\n",
        "    # css 파일 읽기\n",
        "df = pd.read_csv(\"IMDB top 1000.csv\", encoding='utf-8')\n",
        "    # numpy 로 변환\n",
        "data = df.to_numpy()\n",
        "\n",
        "title = data[:,1]\n",
        "    # css 파일 읽기\n",
        "df = pd.read_csv(\"IMDB top 1000.csv\", encoding='utf-8')\n",
        "    # numpy 로 변환\n",
        "data = df.to_numpy()\n",
        "\n",
        "    #title_genre_rate 컬럼 + title 년도 제거\n",
        "title_genre_rate = data[:, [1, 4, 5]]\n",
        "cleaned_titles = np.array([re.sub(r'\\s*\\(\\d{4}\\)', '', title) for title in title])\n",
        "title_genre_rate[:, 0] = cleaned_titles\n",
        "title_genre_rate[:, 0] = np.array([re.sub(r'^\\d+\\.\\s*', '', t) for t in title_genre_rate[:, 0]])\n",
        "\n",
        "    #released years 컬럼\n",
        "released_years = np.array([title[-5:-1] for title in title])\n",
        "\n",
        "# Step2\n",
        "    # ③ 최종 데이터 결합\n",
        "final_data = np.column_stack((title_genre_rate, released_years))\n",
        "\n",
        "print(\"전체 영화 개수: \", final_data.shape[0])\n",
        "print(\"평점 평균: \", np.mean(final_data[:, 2].astype(float)))\n",
        "print(\"최고 평점: \", np.max(final_data[:, 2].astype(float)))\n",
        "print(\"최저 평점: \", np.min(final_data[:, 2].astype(float)))\n",
        "\n",
        "# Step3\n",
        "for i in range(final_data.shape[0]):\n",
        "    if final_data[i, 2] == np.max(final_data[:, 2].astype(float)):\n",
        "        print(\"최고 평점 영화 제목:\\n\", final_data[i, 0], \"- 평점 :\", final_data[i, 2])\n",
        "\n",
        "# step4\n",
        "genre_1 = {}\n",
        "for i in title_genre_rate:\n",
        "    gen = i[1].split(',')\n",
        "    for j in gen:\n",
        "        j = j.strip()\n",
        "        genre_1.setdefault(j, []).append(float(i[2]))\n",
        "\n",
        "genre_rateavg = {}\n",
        "genre_rate = []\n",
        "    # 장르만 추출\n",
        "genre = list(genre_1.keys())\n",
        "    # 평점만 추출\n",
        "for i in genre:\n",
        "    genre_1[i] = np.mean(genre_1[i])\n",
        "    genre_rate.append(round(float(genre_1[i]),2))\n",
        "    # 장르와 평점으로 딕셔너리 생성\n",
        "for i in range(len(genre)):\n",
        "    genre_rateavg[genre[i]] = genre_rate[i]\n",
        "    # 평점 오름차순 정렬\n",
        "def get_value(item):\n",
        "    return item[1]\n",
        "sorted_genre_rate = dict(sorted(genre_rateavg.items(), key = get_value, reverse = True))\n",
        "for i in sorted_genre_rate:\n",
        "    print(i, sorted_genre_rate[i])\n",
        "\n",
        "# Step5\n",
        "years1 = {}\n",
        "for i in range (len(released_years)):\n",
        "    years1.setdefault(int(released_years[i]), []).append(final_data[i, 2])\n",
        "print(years1)\n",
        "years_rateavg = {}\n",
        "years_rate = []\n",
        "    # 연도만 추출\n",
        "years = list(years1.keys())\n",
        "    # 평점만 추출해서 평균 계산산\n",
        "for i in years:\n",
        "    years1[i] = np.mean(years1[i])\n",
        "    years_rate.append(round(float(years1[i]), 2))\n",
        "    # 연도와 평균 평점으로 딕셔너리 생성성\n",
        "for i in range(len(years)):\n",
        "    years_rateavg[years[i]] = years_rate[i]\n",
        "    # 연도 오름차순 정렬\n",
        "def get_keys(item):\n",
        "    return item[0]\n",
        "sorted_years_rate = dict(sorted(years_rateavg.items(), key = get_keys, reverse = False))\n",
        "    # 연도와 평균 평점 한 줄씩 출력\n",
        "for i in sorted_years_rate:\n",
        "    print(i, sorted_years_rate[i])\n",
        "x = list(sorted_years_rate.keys())\n",
        "y = list(sorted_years_rate.values())\n",
        "plt.title(\"rate by years\")\n",
        "plt.xlabel(\"year\")\n",
        "plt.ylabel(\"rate\")\n",
        "plt.plot(x, y)\n",
        "plt.xticks(rotation=45)\n",
        "plt.grid(True)\n",
        "plt.show()\n",
        "\n"
      ]
    },
    {
      "cell_type": "code",
      "execution_count": null,
      "id": "762ac4a2",
      "metadata": {
        "id": "762ac4a2",
        "outputId": "6266d548-e614-4062-b77a-98ec28be7ab7"
      },
      "outputs": [
        {
          "name": "stdout",
          "output_type": "stream",
          "text": [
            "평점 8.0 이상 & 2000년 이후 제작된 영화 개수:  573\n",
            "평점 8.0 이상 & 2000년 이후 제작 영화:\n",
            "제작년도:2020, 제목:Hamilton,평점:8.7\n",
            "제작년도:2019, 제목:Parasite,평점:8.6\n",
            "제작년도:2019, 제목:Marriage Story,평점:8.0\n",
            "제작년도:2019, 제목:1917,평점:8.3\n",
            "제작년도:2019, 제목:Avengers: Endgame,평점:8.4\n"
          ]
        },
        {
          "data": {
            "image/png": "[encoded data removed]",
            "text/plain": [
              "<Figure size 1000x500 with 1 Axes>"
            ]
          },
          "metadata": {},
          "output_type": "display_data"
        }
      ],
      "source": [
        "# Step6\n",
        "# 특정조건 (예 평점 8.0 이상 & 2000년대 이후 제작) 충족 하는 영화만 필터링\n",
        "movie_df = []\n",
        "for i in final_data:\n",
        "    if float(i[2]) >= 8.0 and int(i[3]) >= 2000:\n",
        "        movie_df.append(i)\n",
        "final_movie = np.array(movie_df)\n",
        "print(\"평점 8.0 이상 & 2000년 이후 제작된 영화 개수: \", final_movie.shape[0])\n",
        "print(f\"평점 8.0 이상 & 2000년 이후 제작 영화:\")\n",
        "movie_years = final_movie[:, 3].astype(int)\n",
        "year_idx = np.argsort(movie_years)[::-1]  # 내림차순 정렬\n",
        "final_movie = final_movie[year_idx]\n",
        "# 제작년도, 제목, 평점 출력\n",
        "for movie in final_movie[:5]:  # 상위 5개 영화 출력\n",
        "    movie_list = list(movie)\n",
        "    print(f\"제작년도:{movie_list[3]}, 제목:{movie_list[0]},평점:{movie_list[2]}\")\n",
        "\n",
        "# 그래프 그리기\n",
        "plt.rcParams['font.family'] = 'Malgun Gothic'  # 한글 폰트 설정\n",
        "plt.rcParams['figure.figsize'] = (10, 5)  # 그래프 크기 설정\n",
        "plt.ylim(8.0, 10.0) # y축 범위 설정\n",
        "plt.title(\"Top 5 Movies (2000년도 이후후 제작, 평점 8.0 이상)\")\n",
        "plt.xlabel(\"제작년도\")\n",
        "plt.ylabel(\"평점\")\n",
        "plt.bar(final_movie[:, 3], final_movie[:, 2])\n",
        "plt.xticks(rotation=45)\n",
        "plt.grid(axis='y')\n",
        "plt.tight_layout()\n",
        "plt.show()"
      ]
    },
    {
      "cell_type": "code",
      "source": [
        "# Setp7\n",
        "# 특정 감독별 평균 평점 확인\n"
      ],
      "metadata": {
        "id": "oT9ympDPqc_c"
      },
      "id": "oT9ympDPqc_c",
      "execution_count": null,
      "outputs": []
    }
  ],
  "metadata": {
    "kernelspec": {
      "display_name": "Python 3",
      "language": "python",
      "name": "python3"
    },
    "language_info": {
      "codemirror_mode": {
        "name": "ipython",
        "version": 3
      },
      "file_extension": ".py",
      "mimetype": "text/x-python",
      "name": "python",
      "nbconvert_exporter": "python",
      "pygments_lexer": "ipython3",
      "version": "3.13.3"
    },
    "colab": {
      "provenance": [],
      "include_colab_link": true
    }
  },
  "nbformat": 4,
  "nbformat_minor": 5
}